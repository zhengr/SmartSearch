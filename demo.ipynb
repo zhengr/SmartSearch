{
 "cells": [
  {
   "cell_type": "markdown",
   "source": [
    "# Run the server\n",
    "[demo.ipynb](https://github.com/shibing624/SmartSearch/blob/main/demo.ipynb)    | [Open In Colab](https://colab.research.google.com/github/shibing624/SmartSearch/blob/main/demo.ipynb)"
   ],
   "metadata": {
    "collapsed": false
   }
  },
  {
   "cell_type": "markdown",
   "source": [
    "## 运行\n",
    "\n",
    "### 1. 构建前端web\n",
    "\n",
    "两种方法构建前端：\n",
    "1. 下载打包好的前端ui，https://github.com/shibing624/SmartSearch/releases/download/0.1.0/ui.zip 解压到项目根目录直接使用。\n",
    "2. 自己使用npm构建前端（需要nodejs 18以上版本）\n",
    "```shell\n",
    "cd web && npm install && npm run build\n",
    "```\n",
    "输出：项目根目录产出`ui`文件夹，包含前端静态文件。\n",
    "\n",
    "### 2. 基于Lepton API运行服务\n",
    "\n",
    "> [!NOTE]\n",
    "> 我们推荐使用内置llm和kv函数。\n",
    "> 运行以下命令以自动设置它们。\n",
    "\n",
    "```shell\n",
    "lep login\n",
    "python search.py\n",
    "```"
   ],
   "metadata": {
    "collapsed": false
   }
  },
  {
   "cell_type": "code",
   "execution_count": null,
   "outputs": [],
   "source": [
    "!git clone --depth 1 https://github.com/shibing624/SmartSearch.git\n",
    "%cd SmartSearch\n",
    "%ls\n",
    "!pip install -r requirements.txt"
   ],
   "metadata": {
    "collapsed": false,
    "ExecuteTime": {
     "start_time": "2024-02-04T15:25:55.684760Z",
     "end_time": "2024-02-04T15:25:58.882737Z"
    }
   }
  },
  {
   "cell_type": "code",
   "execution_count": null,
   "outputs": [],
   "source": [
    "!wget https://github.com/shibing624/SmartSearch/releases/download/0.1.0/ui.zip && unzip ui.zip"
   ],
   "metadata": {
    "collapsed": false,
    "ExecuteTime": {
     "start_time": "2024-02-04T15:25:58.886364Z",
     "end_time": "2024-02-04T15:26:02.510216Z"
    }
   }
  },
  {
   "cell_type": "code",
   "execution_count": null,
   "outputs": [],
   "source": [
    "!lep login"
   ],
   "metadata": {
    "collapsed": false,
    "ExecuteTime": {
     "start_time": "2024-02-04T15:26:02.512496Z",
     "end_time": "2024-02-04T15:26:07.366471Z"
    }
   }
  },
  {
   "cell_type": "code",
   "execution_count": null,
   "outputs": [],
   "source": [
    "!python search.py"
   ],
   "metadata": {
    "collapsed": false,
    "ExecuteTime": {
     "start_time": "2024-02-04T15:26:07.370765Z",
     "end_time": "2024-02-04T15:26:07.528598Z"
    }
   }
  }
 ],
 "metadata": {
  "kernelspec": {
   "display_name": "Python 3",
   "language": "python",
   "name": "python3"
  },
  "language_info": {
   "codemirror_mode": {
    "name": "ipython",
    "version": 2
   },
   "file_extension": ".py",
   "mimetype": "text/x-python",
   "name": "python",
   "nbconvert_exporter": "python",
   "pygments_lexer": "ipython2",
   "version": "2.7.6"
  }
 },
 "nbformat": 4,
 "nbformat_minor": 0
}
